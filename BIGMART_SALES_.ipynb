{
 "cells": [
  {
   "cell_type": "code",
   "execution_count": 1,
   "metadata": {},
   "outputs": [],
   "source": [
    "import warnings\n",
    "warnings.filterwarnings('ignore')\n",
    "import numpy as np\n",
    "import pandas as pd"
   ]
  },
  {
   "cell_type": "code",
   "execution_count": 2,
   "metadata": {},
   "outputs": [],
   "source": [
    "df1 = pd.read_csv('Train_UWu5bXk.txt',sep=',')\n",
    "df2 = pd.read_csv('Test_u94Q5KV.txt',sep=',')"
   ]
  },
  {
   "cell_type": "code",
   "execution_count": 3,
   "metadata": {},
   "outputs": [],
   "source": [
    "item_id = df2.Item_Identifier\n",
    "outlet_id = df2.Outlet_Identifier"
   ]
  },
  {
   "cell_type": "code",
   "execution_count": 4,
   "metadata": {},
   "outputs": [],
   "source": [
    "df1['data']  = 0\n",
    "df2['data']  = 1\n",
    "df2['Item_Outlet_Sales'] = np.nan"
   ]
  },
  {
   "cell_type": "code",
   "execution_count": 5,
   "metadata": {},
   "outputs": [],
   "source": [
    "df = df1.append(df2)"
   ]
  },
  {
   "cell_type": "code",
   "execution_count": 6,
   "metadata": {},
   "outputs": [],
   "source": [
    "df['Item_Fat_Content'].loc[(df['Item_Fat_Content']=='low fat') | (df['Item_Fat_Content']=='LF')] = 'Low Fat'\n",
    "df['Item_Fat_Content'].loc[(df['Item_Fat_Content']=='reg')] = \"Regular\"\n",
    "df['Item_Fat_Content'] = df['Item_Fat_Content'].map({'Regular':0,'Low Fat':1}).astype(int)\n",
    "\n",
    "df['Item_Identifier'] = df['Item_Identifier'].apply(lambda x: x[0:2])\n",
    "df['Item_Identifier'] = df['Item_Identifier'].map({'FD' : 0,'NC' : 1,'DR' : 2}).astype(int)\n",
    "\n",
    "from sklearn.preprocessing import LabelEncoder\n",
    "le = LabelEncoder()\n",
    "df['Item_Type'] = le.fit_transform(df['Item_Type']).astype(int)\n",
    "\n",
    "df['Item_Visibility'] = df['Item_Visibility'].replace(0,np.mean(df.Item_Visibility))\n",
    "\n",
    "df['Outlet_Identifier'] = df['Outlet_Identifier'].apply(lambda x: x[4:]).astype(int)\n",
    "\n",
    "df['Outlet_Location_Type'] = df['Outlet_Location_Type'].apply(lambda x: x[5]).astype(int)\n",
    "\n",
    "df['Outlet_Size'] = df['Outlet_Size'].map({'Small':0,'Medium':1,'High':2})\n",
    "df['Outlet_Type'] = df['Outlet_Type'].map({'Supermarket Type1':0,'Supermarket Type2':1,'Supermarket Type3':2,'Grocery Store':3}).astype(int)"
   ]
  },
  {
   "cell_type": "code",
   "execution_count": 7,
   "metadata": {},
   "outputs": [],
   "source": [
    "# num_var = [key for key in dict(df.dtypes) if dict(df.dtypes)[key] in ['int64','float64']]\n",
    "# cat_var = [key for key in dict(df.dtypes) if dict(df.dtypes)[key] in ['object']]"
   ]
  },
  {
   "cell_type": "code",
   "execution_count": 8,
   "metadata": {},
   "outputs": [
    {
     "name": "stdout",
     "output_type": "stream",
     "text": [
      "Iteration: 0\n",
      "Iteration: 1\n",
      "Iteration: 2\n",
      "Iteration: 3\n"
     ]
    }
   ],
   "source": [
    "from missingpy import MissForest,KNNImputer\n",
    "mf = MissForest()\n",
    "data = mf.fit_transform(df)\n",
    "#knn = KNNImputer()\n",
    "#data = knn.fit_transform(df)\n",
    "df_miss = pd.DataFrame(data,columns=df.columns)"
   ]
  },
  {
   "cell_type": "code",
   "execution_count": 9,
   "metadata": {},
   "outputs": [
    {
     "data": {
      "text/plain": [
       "Item_Fat_Content             0\n",
       "Item_Identifier              0\n",
       "Item_MRP                     0\n",
       "Item_Outlet_Sales            0\n",
       "Item_Type                    0\n",
       "Item_Visibility              0\n",
       "Item_Weight                  0\n",
       "Outlet_Establishment_Year    0\n",
       "Outlet_Identifier            0\n",
       "Outlet_Location_Type         0\n",
       "Outlet_Size                  0\n",
       "Outlet_Type                  0\n",
       "data                         0\n",
       "dtype: int64"
      ]
     },
     "execution_count": 9,
     "metadata": {},
     "output_type": "execute_result"
    }
   ],
   "source": [
    "df_miss.isnull().sum()"
   ]
  },
  {
   "cell_type": "code",
   "execution_count": 10,
   "metadata": {},
   "outputs": [],
   "source": [
    "df_miss.Outlet_Size = df_miss.Outlet_Size.round()"
   ]
  },
  {
   "cell_type": "code",
   "execution_count": 11,
   "metadata": {},
   "outputs": [],
   "source": [
    "# With one hot encoding\n",
    "df_copy = df_miss.copy()\n",
    "\n",
    "Item_Fat_Content_dummies = pd.get_dummies(df_miss.Item_Fat_Content,drop_first=True)\n",
    "Item_Identifier_dummies = pd.get_dummies(df_miss.Item_Identifier,drop_first=True)\n",
    "Item_Type_dummies = pd.get_dummies(df_miss.Item_Type,drop_first=True)\n",
    "Outlet_Establishment_Year_dummies =pd.get_dummies(df_miss.Outlet_Establishment_Year,drop_first=True)\n",
    "Outlet_Identifier_dummies = pd.get_dummies(df_miss.Outlet_Identifier,drop_first=True)\n",
    "Outlet_Location_Type_dummies = pd.get_dummies(df_miss.Outlet_Location_Type,drop_first=True)\n",
    "Outlet_Size_dummies = pd.get_dummies(df_miss.Outlet_Size,drop_first=True)\n",
    "Outlet_Type_dummies = pd.get_dummies(df_miss.Outlet_Type,drop_first=True)\n",
    "df_copy.drop(['Item_Fat_Content','Item_Identifier','Item_Type',\n",
    "                'Outlet_Establishment_Year','Outlet_Identifier','Outlet_Location_Type',\n",
    "               'Outlet_Size','Outlet_Type'],axis = 1, inplace = True)\n",
    "df_copy = pd.concat([df_copy,Item_Fat_Content_dummies,Item_Identifier_dummies,\n",
    "                    Item_Type_dummies,Outlet_Establishment_Year_dummies,Outlet_Location_Type_dummies,\n",
    "                    Outlet_Size_dummies,Outlet_Type_dummies],axis = 1)"
   ]
  },
  {
   "cell_type": "code",
   "execution_count": 62,
   "metadata": {},
   "outputs": [],
   "source": [
    "df_train = df_miss[df_miss['data'] == 0]\n",
    "\n",
    "df_train = df_train.drop('data',axis = 1)\n",
    "\n",
    "df_test = df_miss[df_miss['data']== 1]\n",
    "\n",
    "df_test = df_test.drop('data',axis = 1)\n",
    "\n",
    "df_test = df_test.drop('Item_Outlet_Sales',axis = 1)"
   ]
  },
  {
   "cell_type": "code",
   "execution_count": 311,
   "metadata": {},
   "outputs": [],
   "source": [
    "df_train = df_copy[df_copy['data'] == 0]\n",
    "\n",
    "df_train = df_train.drop('data',axis = 1)\n",
    "\n",
    "df_test = df_copy[df_copy['data']== 1]\n",
    "\n",
    "df_test = df_test.drop('data',axis = 1)\n",
    "\n",
    "df_test = df_test.drop('Item_Outlet_Sales',axis = 1)"
   ]
  },
  {
   "cell_type": "code",
   "execution_count": null,
   "metadata": {},
   "outputs": [],
   "source": []
  },
  {
   "cell_type": "markdown",
   "metadata": {},
   "source": [
    "# Modeling"
   ]
  },
  {
   "cell_type": "code",
   "execution_count": 63,
   "metadata": {},
   "outputs": [],
   "source": [
    "X = df_train.drop('Item_Outlet_Sales',axis =1)"
   ]
  },
  {
   "cell_type": "code",
   "execution_count": 64,
   "metadata": {},
   "outputs": [],
   "source": [
    "y = df_train.Item_Outlet_Sales"
   ]
  },
  {
   "cell_type": "code",
   "execution_count": 65,
   "metadata": {},
   "outputs": [],
   "source": [
    "from sklearn.model_selection import train_test_split"
   ]
  },
  {
   "cell_type": "code",
   "execution_count": 66,
   "metadata": {},
   "outputs": [],
   "source": [
    "X_train,X_val,y_train,y_val = train_test_split(X,y,test_size = 0.3,random_state=1)"
   ]
  },
  {
   "cell_type": "code",
   "execution_count": 67,
   "metadata": {},
   "outputs": [],
   "source": [
    "from sklearn.metrics import mean_squared_error"
   ]
  },
  {
   "cell_type": "markdown",
   "metadata": {},
   "source": [
    "# Gradient Boosting"
   ]
  },
  {
   "cell_type": "code",
   "execution_count": 68,
   "metadata": {},
   "outputs": [
    {
     "data": {
      "text/plain": [
       "1066.3086266007454"
      ]
     },
     "execution_count": 68,
     "metadata": {},
     "output_type": "execute_result"
    }
   ],
   "source": [
    "from sklearn.ensemble import GradientBoostingRegressor\n",
    "\n",
    "GB = GradientBoostingRegressor(n_estimators=600,learning_rate=0.01)\n",
    "\n",
    "GB.fit(X_train,y_train)\n",
    "\n",
    "np.sqrt(mean_squared_error(y_val,GB.predict(X_val)))"
   ]
  },
  {
   "cell_type": "code",
   "execution_count": 153,
   "metadata": {},
   "outputs": [
    {
     "name": "stdout",
     "output_type": "stream",
     "text": [
      "TRAIN\n",
      "RMSE:  1025.525080357911\n",
      "TEST\n",
      "RMSE:  1069.784950677551\n"
     ]
    }
   ],
   "source": [
    "from sklearn.model_selection import GridSearchCV\n",
    "params = {'n_estimators': [100,200,300,400], 'learning_rate': [0.1, 0.5, 1.],\n",
    "           'subsample': [0.05,1.0],\n",
    "           'max_features': [0.05,1.0] }\n",
    "\n",
    "grid_search = GridSearchCV(GB,param_grid=params,cv=5)\n",
    "\n",
    "grid_search.fit(X_train,y_train)\n",
    "\n",
    "best_gb = grid_search.best_estimator_\n",
    "\n",
    "best_gb.fit(X_train,y_train)\n",
    "ypred = best_gb.predict(X_train)\n",
    "best_gb_ypred = best_gb.predict(X_val)\n",
    "\n",
    "print('TRAIN')\n",
    "print('RMSE: ',np.sqrt(mean_squared_error(y_train,ypred)))\n",
    "#print('R2 value: ',r2_score(y_train,ypred)*100)\n",
    "print('TEST')\n",
    "print('RMSE: ',np.sqrt(mean_squared_error(y_val,best_gb_ypred)))\n",
    "#print('R2 value: ',r2_score(y_val,best_gb_ypred)*100)"
   ]
  },
  {
   "cell_type": "code",
   "execution_count": 188,
   "metadata": {},
   "outputs": [],
   "source": [
    "# y_pred = GB.predict(df_test)\n",
    "# res = pd.DataFrame({'Item_Identifier':item_id,'Outlet_Identifier':outlet_id,'Item_Outlet_Sales':y_pred})\n",
    "# res.to_csv('Gradient.csv',index=False)"
   ]
  },
  {
   "cell_type": "markdown",
   "metadata": {},
   "source": [
    "# Bagging Regressor"
   ]
  },
  {
   "cell_type": "code",
   "execution_count": 69,
   "metadata": {},
   "outputs": [
    {
     "data": {
      "text/plain": [
       "1067.2106728740687"
      ]
     },
     "execution_count": 69,
     "metadata": {},
     "output_type": "execute_result"
    }
   ],
   "source": [
    "from sklearn.ensemble import BaggingRegressor\n",
    "\n",
    "BR = BaggingRegressor(base_estimator=et)\n",
    "\n",
    "BR.fit(X_train,y_train)\n",
    "\n",
    "np.sqrt(mean_squared_error(y_val,BR.predict(X_val)))"
   ]
  },
  {
   "cell_type": "code",
   "execution_count": 190,
   "metadata": {},
   "outputs": [],
   "source": [
    "# y_pred = BR.predict(df_test)\n",
    "# res = pd.DataFrame({'Item_Identifier':item_id,'Outlet_Identifier':outlet_id,'Item_Outlet_Sales':y_pred})\n",
    "# res.to_csv('Bagging.csv',index=False)"
   ]
  },
  {
   "cell_type": "code",
   "execution_count": 55,
   "metadata": {},
   "outputs": [],
   "source": [
    "from tpot import TPOTRegressor"
   ]
  },
  {
   "cell_type": "code",
   "execution_count": 56,
   "metadata": {},
   "outputs": [
    {
     "data": {
      "text/plain": [
       "TPOTRegressor(config_dict=None, crossover_rate=0.1, cv=5,\n",
       "              disable_update_check=False, early_stop=None, generations=100,\n",
       "              max_eval_time_mins=5, max_time_mins=None, memory=None,\n",
       "              mutation_rate=0.9, n_jobs=1, offspring_size=None,\n",
       "              periodic_checkpoint_folder=None, population_size=100,\n",
       "              random_state=None, scoring=None, subsample=1.0, template=None,\n",
       "              use_dask=False, verbosity=0, warm_start=False)"
      ]
     },
     "execution_count": 56,
     "metadata": {},
     "output_type": "execute_result"
    }
   ],
   "source": [
    "tpt = TPOTRegressor()\n",
    "tpt.fit(X_train,y_train)"
   ]
  },
  {
   "cell_type": "code",
   "execution_count": 57,
   "metadata": {},
   "outputs": [
    {
     "data": {
      "text/plain": [
       "1070.6603923672722"
      ]
     },
     "execution_count": 57,
     "metadata": {},
     "output_type": "execute_result"
    }
   ],
   "source": [
    "np.sqrt(mean_squared_error(y_val,tpt.predict(X_val)))"
   ]
  },
  {
   "cell_type": "markdown",
   "metadata": {},
   "source": [
    "# Extra Trees"
   ]
  },
  {
   "cell_type": "code",
   "execution_count": 73,
   "metadata": {},
   "outputs": [
    {
     "data": {
      "text/plain": [
       "1064.6285847730023"
      ]
     },
     "execution_count": 73,
     "metadata": {},
     "output_type": "execute_result"
    }
   ],
   "source": [
    "from sklearn.ensemble import ExtraTreesRegressor\n",
    "et = ExtraTreesRegressor(bootstrap=True, max_features=0.8, min_samples_leaf=19, min_samples_split=16, n_estimators=500)\n",
    "et.fit(X_train,y_train)\n",
    "np.sqrt(mean_squared_error(y_val,et.predict(X_val)))"
   ]
  },
  {
   "cell_type": "code",
   "execution_count": 74,
   "metadata": {},
   "outputs": [],
   "source": [
    "# y_pred = et.predict(df_test)\n",
    "# res = pd.DataFrame({'Item_Identifier':item_id,'Outlet_Identifier':outlet_id,'Item_Outlet_Sales':y_pred})\n",
    "# res.to_csv('et_3.csv',index=False)"
   ]
  },
  {
   "cell_type": "code",
   "execution_count": null,
   "metadata": {},
   "outputs": [],
   "source": []
  },
  {
   "cell_type": "code",
   "execution_count": null,
   "metadata": {},
   "outputs": [],
   "source": []
  }
 ],
 "metadata": {
  "kernelspec": {
   "display_name": "Python 3",
   "language": "python",
   "name": "python3"
  },
  "language_info": {
   "codemirror_mode": {
    "name": "ipython",
    "version": 3
   },
   "file_extension": ".py",
   "mimetype": "text/x-python",
   "name": "python",
   "nbconvert_exporter": "python",
   "pygments_lexer": "ipython3",
   "version": "3.7.3"
  }
 },
 "nbformat": 4,
 "nbformat_minor": 2
}
